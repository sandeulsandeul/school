{
 "cells": [
  {
   "cell_type": "code",
   "execution_count": 68,
   "metadata": {},
   "outputs": [],
   "source": [
    "import requests\n",
    "from bs4 import BeautifulSoup\n",
    "import re\n",
    "\n",
    "url = \"http://www.ewha.ac.kr/ewha/news/notice.do\"\n",
    "res = requests.get(url)\n",
    "soup = BeautifulSoup(res.content, 'html.parser')"
   ]
  },
  {
   "cell_type": "code",
   "execution_count": 218,
   "metadata": {},
   "outputs": [],
   "source": [
    "link_sort = soup.select('table>tbody>tr>td.b-td-left>div.b-title-box>div.b-m-con>span.b-writer' )\n",
    "link_title= soup.select('table>tbody>tr>td.b-td-left>div.b-title-box>a[title]' )\n",
    "link_a = [ ]\n",
    "temp_a= soup.select('table>tbody>tr>td.b-td-left>div.b-title-box>a' )\n",
    "for a in temp_a:\n",
    "    link_a.append ('http://www.ewha.ac.kr/ewha/news/notice.do'+a.get('href'))\n",
    "link_date = soup.select('table>tbody>tr>td.b-td-left>div.b-title-box>div.b-m-con>span.b-date' )"
   ]
  },
  {
   "cell_type": "code",
   "execution_count": 182,
   "metadata": {},
   "outputs": [],
   "source": [
    "information = {}\n",
    "for num in range(len(link_sort)):\n",
    "        p1 = re.compile(r'\\w+')\n",
    "        temp_sort = link_sort[num].get_text()\n",
    "        temp_sort = temp_sort[p1.search(temp_sort).span()[0]:p1.search(temp_sort).span()[1]]\n",
    "    \n",
    "        temp_a = link_a[num]\n",
    "        \n",
    "        p2 = re.compile(r'(\\w+ )+\\w+')\n",
    "        temp_title = link_title[num].get_text()\n",
    "        temp_title = temp_title[p2.search(temp_title).span()[0]:p2.search(temp_title).span()[1]]\n",
    "        \n",
    "        p3 = re.compile(r'\\d+.\\d+.\\d+')\n",
    "        temp_date = link_date[num].get_text()\n",
    "        temp_date = temp_date[p3.search(temp_date).span()[0]:p3.search(temp_date).span()[1]]\n",
    "        \n",
    "        temp = (temp_sort,temp_a,temp_title,temp_date)\n",
    "        information[num] = temp"
   ]
  },
  {
   "cell_type": "code",
   "execution_count": 239,
   "metadata": {},
   "outputs": [
    {
     "name": "stdout",
     "output_type": "stream",
     "text": [
      "일반 항목의 [ 컴퓨터공학전공 수업조교 모집 ] 공지가 있습니다.\n",
      "바로가기 :  http://www.ewha.ac.kr/ewha/news/notice.do?mode=view&articleNo=318861&article.offset=0&articleLimit=10&no=250\n"
     ]
    }
   ],
   "source": [
    "from datetime import datetime, timedelta\n",
    "for i in range(len(information)):\n",
    "    datestr = information[i][3][:4]+ '-'+information[i][3][5:7]+ '-'+information[i][3][8:]\n",
    "    date = datetime.strptime(datestr,\"%Y-%m-%d\")\n",
    "    if ( date >= (datetime.now() + timedelta(days=-1))):\n",
    "        print(information[i][0],'항목의 [',information[i][2],'] 공지가 있습니다.')\n",
    "        print('바로가기 : ',information[i][1])"
   ]
  },
  {
   "cell_type": "code",
   "execution_count": null,
   "metadata": {},
   "outputs": [],
   "source": []
  },
  {
   "cell_type": "code",
   "execution_count": null,
   "metadata": {},
   "outputs": [],
   "source": []
  }
 ],
 "metadata": {
  "kernelspec": {
   "display_name": "Python 3",
   "language": "python",
   "name": "python3"
  },
  "language_info": {
   "codemirror_mode": {
    "name": "ipython",
    "version": 3
   },
   "file_extension": ".py",
   "mimetype": "text/x-python",
   "name": "python",
   "nbconvert_exporter": "python",
   "pygments_lexer": "ipython3",
   "version": "3.7.6"
  }
 },
 "nbformat": 4,
 "nbformat_minor": 4
}
